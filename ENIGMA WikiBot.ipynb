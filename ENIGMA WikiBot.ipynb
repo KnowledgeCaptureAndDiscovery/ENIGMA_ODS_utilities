{
 "cells": [
  {
   "cell_type": "markdown",
   "metadata": {},
   "source": [
    "# ENIGMA Wiki-Bot"
   ]
  },
  {
   "cell_type": "markdown",
   "metadata": {},
   "source": [
    "The ENIGMA Wiki-Bot can be used to retrieve statistics about the ENIGMA Wiki (http://organicdatacuration.org/enigma_new/index.php/Main_Page) and write them as a Digest on the Main Page. \n",
    "\n",
    "To access your own bot, get the bot login credentials from http://organicdatacuration.org/enigma_new/index.php/Special:BotPasswords and include the username and password in the <b>Logging In</b> section below. Then run the rest of the cells to add the updated digest to the wiki!"
   ]
  },
  {
   "cell_type": "markdown",
   "metadata": {},
   "source": [
    "## Logging In"
   ]
  },
  {
   "cell_type": "code",
   "execution_count": 11,
   "metadata": {},
   "outputs": [],
   "source": [
    "import requests\n",
    "from datetime import datetime\n",
    "from bs4 import BeautifulSoup as bs"
   ]
  },
  {
   "cell_type": "code",
   "execution_count": 23,
   "metadata": {},
   "outputs": [
    {
     "name": "stdout",
     "output_type": "stream",
     "text": [
      "\n"
     ]
    }
   ],
   "source": [
    "S = requests.Session()\n",
    "\n",
    "URL = \"http://organicdatacuration.org/enigma_new/api.php\"\n",
    "\n",
    "# Retrieve login token\n",
    "PARAMS_0 = {\n",
    "    'action':\"query\",\n",
    "    'meta':\"tokens\",\n",
    "    'type':\"login\",\n",
    "    'format':\"json\"\n",
    "}\n",
    "\n",
    "\n",
    "DATA = S.get(url=URL, params=PARAMS_0).json()\n",
    "LOGIN_TOKEN = DATA['query']['tokens']['logintoken']\n",
    "\n",
    "print(\"Login Token: \",LOGIN_TOKEN)\n",
    "\n",
    "# Go to http://organicdatacuration.org/enigma_new/index.php/Special:BotPasswords for lgname & lgpassword, and include them below\n",
    "\n",
    "PARAMS_1 = {\n",
    "    'action':\"login\",\n",
    "    'lgname':\"\",\n",
    "    'lgpassword':\"\",\n",
    "    'lgtoken':LOGIN_TOKEN,\n",
    "    'format':\"json\"\n",
    "}\n",
    "\n",
    "DATA = S.post(URL, data=PARAMS_1).json()\n",
    "\n",
    "print(DATA)"
   ]
  },
  {
   "cell_type": "markdown",
   "metadata": {},
   "source": [
    "## Retrieve Info"
   ]
  },
  {
   "cell_type": "code",
   "execution_count": 3,
   "metadata": {},
   "outputs": [
    {
     "name": "stdout",
     "output_type": "stream",
     "text": [
      "{'datasets': 87, 'organizations': 508, 'persons': 549, 'cohorts': 227}\n"
     ]
    }
   ],
   "source": [
    "def get_stats(query):\n",
    "    response = S.get(query).json()\n",
    "    result = response['query']['pages'].values()\n",
    "    count = []\n",
    "    [[count.append(j['categoryinfo']['size'])] for j in result]\n",
    "    return count[0]\n",
    "\n",
    "num_datasets = get_stats(\"http://organicdatacuration.org/enigma_new/api.php?action=query&prop=categoryinfo&titles=Category:Dataset_(E)&format=json\")\n",
    "num_organizations = get_stats(\"http://organicdatacuration.org/enigma_new/api.php?action=query&prop=categoryinfo&titles=Category:Organization_(E)&format=json\")\n",
    "num_persons = get_stats(\"http://organicdatacuration.org/enigma_new/api.php?action=query&prop=categoryinfo&titles=Category:Person_(E)&format=json\")\n",
    "num_cohorts = get_stats(\"http://organicdatacuration.org/enigma_new/api.php?action=query&prop=categoryinfo&titles=Category:Cohort_(E)&format=json\")\n",
    "\n",
    "statistics = {'datasets':num_datasets,\n",
    "             'organizations':num_organizations,\n",
    "             'persons':num_persons,\n",
    "             'cohorts':num_cohorts}\n",
    "print(statistics)"
   ]
  },
  {
   "cell_type": "code",
   "execution_count": null,
   "metadata": {},
   "outputs": [],
   "source": []
  },
  {
   "cell_type": "markdown",
   "metadata": {},
   "source": [
    "## Writing to Wiki "
   ]
  },
  {
   "cell_type": "code",
   "execution_count": 14,
   "metadata": {},
   "outputs": [
    {
     "name": "stdout",
     "output_type": "stream",
     "text": [
      "\n",
      "\n",
      "As of July 28, 2020 14:54:15, there are a total of 87 '''datasets''' in the ENIGMA Wiki which belong to 227 '''cohorts'''. There are 549 '''persons''' associated with 508 '''organizations.'''\n"
     ]
    }
   ],
   "source": [
    "dt = datetime.now()\n",
    "timestamp = dt.strftime(\"%B %d, %Y %H:%M:%S\")\n",
    "##The following digest will be added to the Wiki\n",
    "digest = \"\\n\\nAs of \"+timestamp+\", there are a total of \"+str(statistics['datasets'])+\" '''datasets''' in the ENIGMA Wiki which belong to \"+str(statistics['cohorts'])+\" '''cohorts'''. There are \"+str(statistics['persons'])+\" '''persons''' associated with \"+str(statistics['organizations'])+\" '''organizations.'''\"\n",
    "print(digest)"
   ]
  },
  {
   "cell_type": "code",
   "execution_count": 17,
   "metadata": {},
   "outputs": [
    {
     "name": "stdout",
     "output_type": "stream",
     "text": [
      "{'edit': {'result': 'Success', 'pageid': 1, 'title': 'Main Page', 'contentmodel': 'wikitext', 'oldrevid': 23451, 'newrevid': 23452, 'newtimestamp': '2020-07-28T21:43:10Z'}}\n"
     ]
    }
   ],
   "source": [
    "##Execute this to add today's digest to the wiki\n",
    "PARAMS_2 = {\n",
    "    \"action\": \"query\",\n",
    "    \"meta\": \"tokens\",\n",
    "    \"format\": \"json\"\n",
    "}\n",
    "\n",
    "R = S.get(url=URL, params=PARAMS_2)\n",
    "DATA = R.json()\n",
    "\n",
    "CSRF_TOKEN = DATA['query']['tokens']['csrftoken']\n",
    "\n",
    "# Step 4: POST request to edit a page\n",
    "PARAMS_EDIT = {\n",
    "    \"action\": \"edit\",\n",
    "    \"title\": \"Main_Page\",\n",
    "    \"token\": CSRF_TOKEN,\n",
    "    \"format\": \"json\",\n",
    "    \"appendtext\": digest\n",
    "}\n",
    "\n",
    "R = S.post(URL, data=PARAMS_EDIT)\n",
    "DATA = R.json()\n",
    "\n",
    "print(DATA)"
   ]
  },
  {
   "cell_type": "code",
   "execution_count": null,
   "metadata": {},
   "outputs": [],
   "source": []
  },
  {
   "cell_type": "code",
   "execution_count": null,
   "metadata": {},
   "outputs": [],
   "source": []
  }
 ],
 "metadata": {
  "kernelspec": {
   "display_name": "Python 3",
   "language": "python",
   "name": "python3"
  },
  "language_info": {
   "codemirror_mode": {
    "name": "ipython",
    "version": 3
   },
   "file_extension": ".py",
   "mimetype": "text/x-python",
   "name": "python",
   "nbconvert_exporter": "python",
   "pygments_lexer": "ipython3",
   "version": "3.7.3"
  }
 },
 "nbformat": 4,
 "nbformat_minor": 2
}
