{
 "cells": [
  {
   "cell_type": "markdown",
   "metadata": {},
   "source": [
    "# Get Coordinates"
   ]
  },
  {
   "cell_type": "markdown",
   "metadata": {},
   "source": [
    "This is a script to obtain coordinates of a location or city. To use it, execute the first two cells (click on the cell and click the Run button) shown below and go to the Test cell located at the bottom."
   ]
  },
  {
   "cell_type": "code",
   "execution_count": 1,
   "metadata": {},
   "outputs": [],
   "source": [
    "from geopy.geocoders import Nominatim"
   ]
  },
  {
   "cell_type": "code",
   "execution_count": 10,
   "metadata": {},
   "outputs": [],
   "source": [
    "def get_coordinates(address):\n",
    "    geolocator = Nominatim(user_agent=\"Test\")\n",
    "    location = geolocator.geocode(address)\n",
    "    print(location.address)\n",
    "    latlong = \"\"+str(location.latitude)+\",\"+str(location.longitude)\n",
    "    #print((location.latitude, location.longitude))\n",
    "    return latlong"
   ]
  },
  {
   "cell_type": "markdown",
   "metadata": {},
   "source": [
    "The following is an example for the location: VU Medical Center which you can optionally try. As you can see, the address and coordinates are printed."
   ]
  },
  {
   "cell_type": "code",
   "execution_count": 15,
   "metadata": {},
   "outputs": [
    {
     "name": "stdout",
     "output_type": "stream",
     "text": [
      "Vrije Universiteit, Campusplein, Zuidas Knowledge District, Amsterdam, Noord-Holland, Nederland\n",
      "52.37454030000001,4.897975505617977\n"
     ]
    }
   ],
   "source": [
    "try:\n",
    "    example = \"VU Medical Center\"\n",
    "    coordinates = get_coordinates(example)\n",
    "    print(coords)\n",
    "except AttributeError:\n",
    "    print(\"Cannot find coordinates for:\",example)"
   ]
  },
  {
   "cell_type": "markdown",
   "metadata": {},
   "source": [
    "## Try it Yourself!"
   ]
  },
  {
   "cell_type": "markdown",
   "metadata": {},
   "source": [
    "After executing the above cells, you can now obtain the coordinates (lat,long) for any location/city/address. In the cell below, include the name of the desired location within the quotation marks next to location_name (please don't change anything else). Execute the cell to see the address and coordinates of the location.\n",
    "You can cross check the address of the location to ensure it is the same location you want.\n",
    "That's all!"
   ]
  },
  {
   "cell_type": "code",
   "execution_count": null,
   "metadata": {},
   "outputs": [],
   "source": [
    "##Try it yourself!\n",
    "try:\n",
    "    location_name = \"\" ##enter the location inside the quotation marks\n",
    "    coordinates = get_coordinates(location_name)\n",
    "    print(coords)\n",
    "except AttributeError:\n",
    "    print(\"Sorry! Cannot find coordinates for:\",location_name)"
   ]
  },
  {
   "cell_type": "code",
   "execution_count": null,
   "metadata": {},
   "outputs": [],
   "source": []
  },
  {
   "cell_type": "code",
   "execution_count": null,
   "metadata": {},
   "outputs": [],
   "source": []
  },
  {
   "cell_type": "code",
   "execution_count": null,
   "metadata": {},
   "outputs": [],
   "source": []
  },
  {
   "cell_type": "code",
   "execution_count": null,
   "metadata": {},
   "outputs": [],
   "source": []
  },
  {
   "cell_type": "code",
   "execution_count": null,
   "metadata": {},
   "outputs": [],
   "source": []
  },
  {
   "cell_type": "code",
   "execution_count": null,
   "metadata": {},
   "outputs": [],
   "source": []
  },
  {
   "cell_type": "code",
   "execution_count": null,
   "metadata": {},
   "outputs": [],
   "source": []
  },
  {
   "cell_type": "code",
   "execution_count": null,
   "metadata": {},
   "outputs": [],
   "source": []
  },
  {
   "cell_type": "code",
   "execution_count": null,
   "metadata": {},
   "outputs": [],
   "source": []
  },
  {
   "cell_type": "code",
   "execution_count": null,
   "metadata": {},
   "outputs": [],
   "source": []
  },
  {
   "cell_type": "code",
   "execution_count": null,
   "metadata": {},
   "outputs": [],
   "source": []
  }
 ],
 "metadata": {
  "kernelspec": {
   "display_name": "Python 3",
   "language": "python",
   "name": "python3"
  },
  "language_info": {
   "codemirror_mode": {
    "name": "ipython",
    "version": 3
   },
   "file_extension": ".py",
   "mimetype": "text/x-python",
   "name": "python",
   "nbconvert_exporter": "python",
   "pygments_lexer": "ipython3",
   "version": "3.7.3"
  }
 },
 "nbformat": 4,
 "nbformat_minor": 2
}
